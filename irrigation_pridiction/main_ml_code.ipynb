{
  "nbformat": 4,
  "nbformat_minor": 2,
  "metadata": {
    "colab": {
      "name": "pridict_sale.ipynb",
      "provenance": [],
      "authorship_tag": "ABX9TyNpYjXqZ4SvDtWB3kdSmWxb",
      "include_colab_link": true
    },
    "kernelspec": {
      "name": "python3",
      "display_name": "Python 3.9.7 64-bit"
    },
    "language_info": {
      "name": "python",
      "version": "3.9.7",
      "mimetype": "text/x-python",
      "codemirror_mode": {
        "name": "ipython",
        "version": 3
      },
      "pygments_lexer": "ipython3",
      "nbconvert_exporter": "python",
      "file_extension": ".py"
    },
    "interpreter": {
      "hash": "3279da06bdad5357e6fd309fa40f567e163d4b4bd6fd86f431f982291360ed80"
    }
  },
  "cells": [
    {
      "cell_type": "markdown",
      "source": [
        "<a href=\"https://colab.research.google.com/github/Shivvamm04/Sales_pridiction/blob/main/pridict_sale.ipynb\" target=\"_parent\"><img src=\"https://colab.research.google.com/assets/colab-badge.svg\" alt=\"Open In Colab\"/></a>"
      ],
      "metadata": {
        "id": "view-in-github",
        "colab_type": "text"
      }
    },
    {
      "cell_type": "code",
      "execution_count": 4,
      "source": [
        "url = \"https://raw.githubusercontent.com/Shivvamm04/Sales_pridiction/main/irrigation.csv\"\r\n",
        "import numpy as np\r\n",
        "import pandas as pd\r\n",
        "import matplotlib.pyplot as plt\r\n"
      ],
      "outputs": [],
      "metadata": {
        "id": "_5m6yxEG-0Tg"
      }
    },
    {
      "cell_type": "code",
      "execution_count": 5,
      "source": [
        "df = pd.read_csv(url)\r\n",
        "df.head()"
      ],
      "outputs": [
        {
          "output_type": "execute_result",
          "data": {
            "text/html": [
              "<div>\n",
              "<style scoped>\n",
              "    .dataframe tbody tr th:only-of-type {\n",
              "        vertical-align: middle;\n",
              "    }\n",
              "\n",
              "    .dataframe tbody tr th {\n",
              "        vertical-align: top;\n",
              "    }\n",
              "\n",
              "    .dataframe thead th {\n",
              "        text-align: right;\n",
              "    }\n",
              "</style>\n",
              "<table border=\"1\" class=\"dataframe\">\n",
              "  <thead>\n",
              "    <tr style=\"text-align: right;\">\n",
              "      <th></th>\n",
              "      <th>Temprature</th>\n",
              "      <th>Water level</th>\n",
              "      <th>Humidity</th>\n",
              "      <th>Moisture</th>\n",
              "      <th>Rain</th>\n",
              "      <th>Moter O/P</th>\n",
              "    </tr>\n",
              "  </thead>\n",
              "  <tbody>\n",
              "    <tr>\n",
              "      <th>0</th>\n",
              "      <td>48</td>\n",
              "      <td>380</td>\n",
              "      <td>40</td>\n",
              "      <td>85</td>\n",
              "      <td>0</td>\n",
              "      <td>20</td>\n",
              "    </tr>\n",
              "    <tr>\n",
              "      <th>1</th>\n",
              "      <td>32</td>\n",
              "      <td>300</td>\n",
              "      <td>60</td>\n",
              "      <td>78</td>\n",
              "      <td>0</td>\n",
              "      <td>30</td>\n",
              "    </tr>\n",
              "    <tr>\n",
              "      <th>2</th>\n",
              "      <td>35</td>\n",
              "      <td>500</td>\n",
              "      <td>85</td>\n",
              "      <td>89</td>\n",
              "      <td>0</td>\n",
              "      <td>0</td>\n",
              "    </tr>\n",
              "    <tr>\n",
              "      <th>3</th>\n",
              "      <td>40</td>\n",
              "      <td>350</td>\n",
              "      <td>78</td>\n",
              "      <td>90</td>\n",
              "      <td>1</td>\n",
              "      <td>0</td>\n",
              "    </tr>\n",
              "    <tr>\n",
              "      <th>4</th>\n",
              "      <td>15</td>\n",
              "      <td>195</td>\n",
              "      <td>75</td>\n",
              "      <td>75</td>\n",
              "      <td>0</td>\n",
              "      <td>24</td>\n",
              "    </tr>\n",
              "  </tbody>\n",
              "</table>\n",
              "</div>"
            ],
            "text/plain": [
              "   Temprature  Water level  Humidity  Moisture  Rain  Moter O/P\n",
              "0          48          380        40        85     0         20\n",
              "1          32          300        60        78     0         30\n",
              "2          35          500        85        89     0          0\n",
              "3          40          350        78        90     1          0\n",
              "4          15          195        75        75     0         24"
            ]
          },
          "metadata": {},
          "execution_count": 5
        }
      ],
      "metadata": {
        "colab": {
          "base_uri": "https://localhost:8080/",
          "height": 206
        },
        "id": "tFal5uLHEtFF",
        "outputId": "c3e22c92-d7e7-40aa-99b2-ad87e6ff4dfc"
      }
    },
    {
      "cell_type": "code",
      "execution_count": 6,
      "source": [
        "df.shape"
      ],
      "outputs": [
        {
          "output_type": "execute_result",
          "data": {
            "text/plain": [
              "(39, 6)"
            ]
          },
          "metadata": {},
          "execution_count": 6
        }
      ],
      "metadata": {
        "colab": {
          "base_uri": "https://localhost:8080/"
        },
        "id": "H-daE3cjE9HL",
        "outputId": "b2b4aee1-1bec-494f-89a4-5f42e8025cbd"
      }
    },
    {
      "cell_type": "code",
      "execution_count": 7,
      "source": [
        "df.corr()"
      ],
      "outputs": [
        {
          "output_type": "execute_result",
          "data": {
            "text/html": [
              "<div>\n",
              "<style scoped>\n",
              "    .dataframe tbody tr th:only-of-type {\n",
              "        vertical-align: middle;\n",
              "    }\n",
              "\n",
              "    .dataframe tbody tr th {\n",
              "        vertical-align: top;\n",
              "    }\n",
              "\n",
              "    .dataframe thead th {\n",
              "        text-align: right;\n",
              "    }\n",
              "</style>\n",
              "<table border=\"1\" class=\"dataframe\">\n",
              "  <thead>\n",
              "    <tr style=\"text-align: right;\">\n",
              "      <th></th>\n",
              "      <th>Temprature</th>\n",
              "      <th>Water level</th>\n",
              "      <th>Humidity</th>\n",
              "      <th>Moisture</th>\n",
              "      <th>Rain</th>\n",
              "      <th>Moter O/P</th>\n",
              "    </tr>\n",
              "  </thead>\n",
              "  <tbody>\n",
              "    <tr>\n",
              "      <th>Temprature</th>\n",
              "      <td>1.000000</td>\n",
              "      <td>0.077991</td>\n",
              "      <td>-0.446249</td>\n",
              "      <td>-0.021013</td>\n",
              "      <td>0.130833</td>\n",
              "      <td>0.099548</td>\n",
              "    </tr>\n",
              "    <tr>\n",
              "      <th>Water level</th>\n",
              "      <td>0.077991</td>\n",
              "      <td>1.000000</td>\n",
              "      <td>0.035166</td>\n",
              "      <td>0.610599</td>\n",
              "      <td>-0.197820</td>\n",
              "      <td>-0.515982</td>\n",
              "    </tr>\n",
              "    <tr>\n",
              "      <th>Humidity</th>\n",
              "      <td>-0.446249</td>\n",
              "      <td>0.035166</td>\n",
              "      <td>1.000000</td>\n",
              "      <td>0.117065</td>\n",
              "      <td>0.043392</td>\n",
              "      <td>-0.273365</td>\n",
              "    </tr>\n",
              "    <tr>\n",
              "      <th>Moisture</th>\n",
              "      <td>-0.021013</td>\n",
              "      <td>0.610599</td>\n",
              "      <td>0.117065</td>\n",
              "      <td>1.000000</td>\n",
              "      <td>0.038539</td>\n",
              "      <td>-0.477954</td>\n",
              "    </tr>\n",
              "    <tr>\n",
              "      <th>Rain</th>\n",
              "      <td>0.130833</td>\n",
              "      <td>-0.197820</td>\n",
              "      <td>0.043392</td>\n",
              "      <td>0.038539</td>\n",
              "      <td>1.000000</td>\n",
              "      <td>-0.580979</td>\n",
              "    </tr>\n",
              "    <tr>\n",
              "      <th>Moter O/P</th>\n",
              "      <td>0.099548</td>\n",
              "      <td>-0.515982</td>\n",
              "      <td>-0.273365</td>\n",
              "      <td>-0.477954</td>\n",
              "      <td>-0.580979</td>\n",
              "      <td>1.000000</td>\n",
              "    </tr>\n",
              "  </tbody>\n",
              "</table>\n",
              "</div>"
            ],
            "text/plain": [
              "             Temprature  Water level  Humidity  Moisture      Rain  Moter O/P\n",
              "Temprature     1.000000     0.077991 -0.446249 -0.021013  0.130833   0.099548\n",
              "Water level    0.077991     1.000000  0.035166  0.610599 -0.197820  -0.515982\n",
              "Humidity      -0.446249     0.035166  1.000000  0.117065  0.043392  -0.273365\n",
              "Moisture      -0.021013     0.610599  0.117065  1.000000  0.038539  -0.477954\n",
              "Rain           0.130833    -0.197820  0.043392  0.038539  1.000000  -0.580979\n",
              "Moter O/P      0.099548    -0.515982 -0.273365 -0.477954 -0.580979   1.000000"
            ]
          },
          "metadata": {},
          "execution_count": 7
        }
      ],
      "metadata": {
        "colab": {
          "base_uri": "https://localhost:8080/",
          "height": 206
        },
        "id": "NlV7H8ksFRPX",
        "outputId": "580a18ae-2b94-4a8a-f24e-f36b1fc9955d"
      }
    },
    {
      "cell_type": "code",
      "execution_count": 8,
      "source": [
        "df.plot(kind = 'scatter',x = \"Water level\", y = \"Moter O/P\")"
      ],
      "outputs": [
        {
          "output_type": "execute_result",
          "data": {
            "text/plain": [
              "<AxesSubplot:xlabel='Water level', ylabel='Moter O/P'>"
            ]
          },
          "metadata": {},
          "execution_count": 8
        },
        {
          "output_type": "display_data",
          "data": {
            "image/png": "[encoded data removed]",
            "text/plain": [
              "<Figure size 432x288 with 1 Axes>"
            ]
          },
          "metadata": {
            "needs_background": "light"
          }
        }
      ],
      "metadata": {
        "colab": {
          "base_uri": "https://localhost:8080/",
          "height": 296
        },
        "id": "aet-QBCYGpgn",
        "outputId": "62c08dbf-e52c-49b2-81ca-81aa6a493ca0"
      }
    },
    {
      "cell_type": "code",
      "execution_count": 9,
      "source": [
        "df.plot(kind = 'scatter',x = \"Humidity\", y = \"Moter O/P\")"
      ],
      "outputs": [
        {
          "output_type": "execute_result",
          "data": {
            "text/plain": [
              "<AxesSubplot:xlabel='Humidity', ylabel='Moter O/P'>"
            ]
          },
          "metadata": {},
          "execution_count": 9
        },
        {
          "output_type": "display_data",
          "data": {
            "image/png": "[encoded data removed]",
            "text/plain": [
              "<Figure size 432x288 with 1 Axes>"
            ]
          },
          "metadata": {
            "needs_background": "light"
          }
        }
      ],
      "metadata": {
        "colab": {
          "base_uri": "https://localhost:8080/",
          "height": 296
        },
        "id": "JeUF0omXHxaL",
        "outputId": "7733d44c-165c-4c1b-ea94-effaba86f31a"
      }
    },
    {
      "cell_type": "code",
      "execution_count": 10,
      "source": [
        "df.plot(kind = 'scatter',x = \"Moisture\", y = \"Moter O/P\")"
      ],
      "outputs": [
        {
          "output_type": "execute_result",
          "data": {
            "text/plain": [
              "<AxesSubplot:xlabel='Moisture', ylabel='Moter O/P'>"
            ]
          },
          "metadata": {},
          "execution_count": 10
        },
        {
          "output_type": "display_data",
          "data": {
            "image/png": "[encoded data removed]",
            "text/plain": [
              "<Figure size 432x288 with 1 Axes>"
            ]
          },
          "metadata": {
            "needs_background": "light"
          }
        }
      ],
      "metadata": {
        "colab": {
          "base_uri": "https://localhost:8080/",
          "height": 296
        },
        "id": "h13xT0XgJGGd",
        "outputId": "70daae0f-a436-4d95-85c0-62b52e713413"
      }
    },
    {
      "cell_type": "code",
      "execution_count": 11,
      "source": [
        "# X = df[\"TV\"].values.reshape(-1,1)\r\n",
        "# Y = df[\"Sales\"].values.reshape(-1,1)"
      ],
      "outputs": [],
      "metadata": {
        "id": "mGltM5HFJLWO"
      }
    },
    {
      "cell_type": "code",
      "execution_count": 12,
      "source": [
        "from sklearn.model_selection import train_test_split\r\n",
        "X_train,X_test= train_test_split(df,test_size = 0.2, random_state = 42)"
      ],
      "outputs": [],
      "metadata": {
        "id": "ucJIpt-yMmsp"
      }
    },
    {
      "cell_type": "code",
      "execution_count": 13,
      "source": [
        "df = X_train.drop(\"Moter O/P\",axis = 1)\r\n",
        "df_op = X_train[\"Moter O/P\"].copy()"
      ],
      "outputs": [],
      "metadata": {
        "id": "eJM_e6fQOh5v"
      }
    },
    {
      "cell_type": "code",
      "execution_count": 14,
      "source": [
        "from sklearn.pipeline import Pipeline\r\n",
        "from sklearn.impute import SimpleImputer\r\n",
        "from sklearn.preprocessing import StandardScaler\r\n",
        "my_pipeline = Pipeline([\r\n",
        "    ('imputer', SimpleImputer(strategy=\"median\")),\r\n",
        "    ('std_scaler', StandardScaler()),\r\n",
        "])"
      ],
      "outputs": [],
      "metadata": {
        "id": "zTn3cFibQG41"
      }
    },
    {
      "cell_type": "code",
      "execution_count": 15,
      "source": [
        "# df_t_p = my_pipeline.fit_transform(df)"
      ],
      "outputs": [],
      "metadata": {
        "id": "A9bW79WvQzsb"
      }
    },
    {
      "cell_type": "code",
      "execution_count": 16,
      "source": [
        "df.shape"
      ],
      "outputs": [
        {
          "output_type": "execute_result",
          "data": {
            "text/plain": [
              "(31, 5)"
            ]
          },
          "metadata": {},
          "execution_count": 16
        }
      ],
      "metadata": {
        "colab": {
          "base_uri": "https://localhost:8080/"
        },
        "id": "b46wCzqPRBx_",
        "outputId": "83cce5b8-17f8-40ca-a94c-324a2d15fda4"
      }
    },
    {
      "cell_type": "code",
      "execution_count": 17,
      "source": [
        "from sklearn.linear_model import LinearRegression\r\n",
        "from sklearn.tree import DecisionTreeRegressor\r\n",
        "from sklearn.ensemble import RandomForestRegressor\r\n",
        "model = RandomForestRegressor()\r\n",
        "model.fit(df,df_op)"
      ],
      "outputs": [
        {
          "output_type": "execute_result",
          "data": {
            "text/plain": [
              "RandomForestRegressor()"
            ]
          },
          "metadata": {},
          "execution_count": 17
        }
      ],
      "metadata": {
        "id": "-DKwW8ZwNLRW",
        "colab": {
          "base_uri": "https://localhost:8080/"
        },
        "outputId": "6b8c6297-409d-43bb-8f60-2b820ea9937b"
      }
    },
    {
      "cell_type": "code",
      "execution_count": 18,
      "source": [
        "some_data = df.iloc[:5]"
      ],
      "outputs": [],
      "metadata": {
        "id": "FUh11IesWete"
      }
    },
    {
      "cell_type": "code",
      "execution_count": 19,
      "source": [
        "some_labels = df_op.iloc[:5]"
      ],
      "outputs": [],
      "metadata": {
        "id": "YlHQ3X8dSLWT"
      }
    },
    {
      "cell_type": "code",
      "execution_count": 20,
      "source": [
        "# prepared_data = my_pipeline.transform(some_data)"
      ],
      "outputs": [],
      "metadata": {
        "id": "SZUE4LgVSRvf"
      }
    },
    {
      "cell_type": "code",
      "execution_count": 21,
      "source": [
        "model.predict(some_data)"
      ],
      "outputs": [
        {
          "output_type": "execute_result",
          "data": {
            "text/plain": [
              "array([12.82, 18.14, 23.14, 36.77, 25.93])"
            ]
          },
          "metadata": {},
          "execution_count": 21
        }
      ],
      "metadata": {
        "colab": {
          "base_uri": "https://localhost:8080/"
        },
        "id": "y33s-8x2SWnV",
        "outputId": "e7700702-ec08-4525-de01-99c738498e9a"
      }
    },
    {
      "cell_type": "code",
      "execution_count": 22,
      "source": [
        "list(some_labels)"
      ],
      "outputs": [
        {
          "output_type": "execute_result",
          "data": {
            "text/plain": [
              "[13, 19, 23, 40, 29]"
            ]
          },
          "metadata": {},
          "execution_count": 22
        }
      ],
      "metadata": {
        "colab": {
          "base_uri": "https://localhost:8080/"
        },
        "id": "0NwO_8_JSZ89",
        "outputId": "f37ce5f9-a89a-410e-c9d5-8164b1648973"
      }
    },
    {
      "cell_type": "code",
      "execution_count": 23,
      "source": [
        "from sklearn.metrics import mean_squared_error\r\n",
        "df_predictions = model.predict(df)\r\n",
        "mse = mean_squared_error(df_op, df_predictions)\r\n",
        "rmse = np.sqrt(mse)"
      ],
      "outputs": [],
      "metadata": {
        "id": "O5WzJxFiShfs"
      }
    },
    {
      "cell_type": "code",
      "execution_count": 24,
      "source": [
        "rmse"
      ],
      "outputs": [
        {
          "output_type": "execute_result",
          "data": {
            "text/plain": [
              "2.3292626550324957"
            ]
          },
          "metadata": {},
          "execution_count": 24
        }
      ],
      "metadata": {
        "colab": {
          "base_uri": "https://localhost:8080/"
        },
        "id": "nrzmqvBuTYCY",
        "outputId": "95e60699-0f7f-45dc-9ba6-af524f8610d0"
      }
    },
    {
      "cell_type": "code",
      "execution_count": 25,
      "source": [
        "from sklearn.model_selection import cross_val_score\r\n",
        "scores = cross_val_score(model, df, df_op, scoring=\"neg_mean_squared_error\", cv=10)\r\n",
        "rmse_scores = np.sqrt(-scores)"
      ],
      "outputs": [],
      "metadata": {
        "id": "fAafP-CWTZ5y"
      }
    },
    {
      "cell_type": "code",
      "execution_count": 26,
      "source": [
        "rmse_scores"
      ],
      "outputs": [
        {
          "output_type": "execute_result",
          "data": {
            "text/plain": [
              "array([ 3.62135679,  4.14428924,  5.45856208,  4.55315641,  4.85604778,\n",
              "        6.3363107 , 11.18245948,  4.69727581,  1.9668079 , 13.11513375])"
            ]
          },
          "metadata": {},
          "execution_count": 26
        }
      ],
      "metadata": {
        "colab": {
          "base_uri": "https://localhost:8080/"
        },
        "id": "xw-B_KstUMq2",
        "outputId": "31280f1b-32d6-45b7-d6c7-0819e733615b"
      }
    },
    {
      "cell_type": "code",
      "execution_count": 27,
      "source": [
        "def print_scores(scores):\r\n",
        "    print(\"Scores:\", scores)\r\n",
        "    print(\"Mean: \", scores.mean())\r\n",
        "    print(\"Standard deviation: \", scores.std())"
      ],
      "outputs": [],
      "metadata": {
        "id": "Fh4i6jYxUQuZ"
      }
    },
    {
      "cell_type": "code",
      "execution_count": 28,
      "source": [
        "print_scores(rmse_scores)"
      ],
      "outputs": [
        {
          "output_type": "stream",
          "name": "stdout",
          "text": [
            "Scores: [ 3.62135679  4.14428924  5.45856208  4.55315641  4.85604778  6.3363107\n",
            " 11.18245948  4.69727581  1.9668079  13.11513375]\n",
            "Mean:  5.99313999506276\n",
            "Standard deviation:  3.291749104389002\n"
          ]
        }
      ],
      "metadata": {
        "colab": {
          "base_uri": "https://localhost:8080/"
        },
        "id": "G6iZSRXLUwEG",
        "outputId": "aad0ac50-cec7-455c-d05c-59ab542ed150"
      }
    },
    {
      "cell_type": "code",
      "execution_count": 29,
      "source": [
        "from joblib import dump, load\r\n",
        "dump(model, 'irrigation.joblib') "
      ],
      "outputs": [
        {
          "output_type": "execute_result",
          "data": {
            "text/plain": [
              "['irrigation.joblib']"
            ]
          },
          "metadata": {},
          "execution_count": 29
        }
      ],
      "metadata": {
        "colab": {
          "base_uri": "https://localhost:8080/"
        },
        "id": "jRrcMtNZUxR3",
        "outputId": "03073a5d-df37-4d78-bf5d-0ed47ad781a8"
      }
    },
    {
      "cell_type": "code",
      "execution_count": 30,
      "source": [
        "X_t = X_test.drop(\"Moter O/P\", axis=1)\r\n",
        "Y_t = X_test[\"Moter O/P\"].copy()\r\n",
        "# X_test_prepared = my_pipeline.transform(X_t)\r\n",
        "final_predictions = model.predict(X_t)\r\n",
        "final_mse = mean_squared_error(Y_t, final_predictions)\r\n",
        "final_rmse = np.sqrt(final_mse)"
      ],
      "outputs": [],
      "metadata": {
        "id": "hzDdUUrhVDVr"
      }
    },
    {
      "cell_type": "code",
      "execution_count": 31,
      "source": [
        "final_rmse"
      ],
      "outputs": [
        {
          "output_type": "execute_result",
          "data": {
            "text/plain": [
              "8.021443136992247"
            ]
          },
          "metadata": {},
          "execution_count": 31
        }
      ],
      "metadata": {
        "colab": {
          "base_uri": "https://localhost:8080/"
        },
        "id": "PlycqR9IVhUz",
        "outputId": "13cad361-eecc-4db8-c2b1-091578717d26"
      }
    },
    {
      "cell_type": "code",
      "execution_count": 32,
      "source": [
        "# df[0] //prepared_data"
      ],
      "outputs": [],
      "metadata": {
        "colab": {
          "base_uri": "https://localhost:8080/"
        },
        "id": "CXfiIxXhYEpw",
        "outputId": "ff7962b1-0548-447d-d56b-e2156c0b7c6a"
      }
    },
    {
      "cell_type": "code",
      "execution_count": 34,
      "source": [
        "dt = [[40, 440, 39, 83, 0]]\r\n",
        "# ch_d = my_pipeline.transform(dt)\r\n",
        "# ch_d[0]"
      ],
      "outputs": [],
      "metadata": {
        "colab": {
          "base_uri": "https://localhost:8080/"
        },
        "id": "ei6WxVxKbHSA",
        "outputId": "6370dda7-6f9f-490f-9b3d-f72298e6fada"
      }
    }
  ]
}